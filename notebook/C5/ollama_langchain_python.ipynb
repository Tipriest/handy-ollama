{
 "cells": [
  {
   "cell_type": "markdown",
   "id": "c0425f51befd6991",
   "metadata": {},
   "source": [
    "# Ollama 在 LangChain 中的使用 - Python 集成\n"
   ]
  },
  {
   "cell_type": "markdown",
   "id": "1fc4457ed485339b",
   "metadata": {},
   "source": [
    "## 1. 环境设置\n",
    "### 运行前请确保已经配置好环境和依赖"
   ]
  },
  {
   "cell_type": "code",
   "execution_count": 1,
   "id": "8fbb985d29d84a1e",
   "metadata": {
    "ExecuteTime": {
     "end_time": "2024-08-08T05:24:26.754424Z",
     "start_time": "2024-08-08T05:24:26.735923Z"
    }
   },
   "outputs": [
    {
     "name": "stdout",
     "output_type": "stream",
     "text": [
      "C:\\ProgramData\\anaconda3\\python.exe\n"
     ]
    }
   ],
   "source": [
    "# 确定当前环境\n",
    "import sys\n",
    "print(sys.executable)"
   ]
  },
  {
   "cell_type": "code",
   "execution_count": 4,
   "id": "5902546ad74389aa",
   "metadata": {
    "ExecuteTime": {
     "end_time": "2024-08-08T02:48:13.208454Z",
     "start_time": "2024-08-08T02:47:59.227331Z"
    }
   },
   "outputs": [
    {
     "name": "stdout",
     "output_type": "stream",
     "text": [
      "Looking in indexes: https://pypi.tuna.tsinghua.edu.cn/simple\n",
      "Requirement already satisfied: langchain-ollama in d:\\python\\lib\\site-packages (0.1.1)\n",
      "Requirement already satisfied: langchain-core<0.3.0,>=0.2.20 in d:\\python\\lib\\site-packages (from langchain-ollama) (0.2.29)\n",
      "Requirement already satisfied: ollama<1,>=0.3.0 in d:\\python\\lib\\site-packages (from langchain-ollama) (0.3.1)\n",
      "Requirement already satisfied: PyYAML>=5.3 in d:\\python\\lib\\site-packages (from langchain-core<0.3.0,>=0.2.20->langchain-ollama) (6.0.1)\n",
      "Requirement already satisfied: jsonpatch<2.0,>=1.33 in d:\\python\\lib\\site-packages (from langchain-core<0.3.0,>=0.2.20->langchain-ollama) (1.33)\n",
      "Requirement already satisfied: langsmith<0.2.0,>=0.1.75 in d:\\python\\lib\\site-packages (from langchain-core<0.3.0,>=0.2.20->langchain-ollama) (0.1.98)\n",
      "Requirement already satisfied: packaging<25,>=23.2 in d:\\python\\lib\\site-packages (from langchain-core<0.3.0,>=0.2.20->langchain-ollama) (23.2)\n",
      "Requirement already satisfied: pydantic<3,>=1 in d:\\python\\lib\\site-packages (from langchain-core<0.3.0,>=0.2.20->langchain-ollama) (2.6.3)\n",
      "Requirement already satisfied: tenacity!=8.4.0,<9.0.0,>=8.1.0 in d:\\python\\lib\\site-packages (from langchain-core<0.3.0,>=0.2.20->langchain-ollama) (8.2.3)\n",
      "Requirement already satisfied: typing-extensions>=4.7 in d:\\python\\lib\\site-packages (from langchain-core<0.3.0,>=0.2.20->langchain-ollama) (4.10.0)\n",
      "Requirement already satisfied: httpx<0.28.0,>=0.27.0 in d:\\python\\lib\\site-packages (from ollama<1,>=0.3.0->langchain-ollama) (0.27.0)\n",
      "Requirement already satisfied: anyio in d:\\python\\lib\\site-packages (from httpx<0.28.0,>=0.27.0->ollama<1,>=0.3.0->langchain-ollama) (4.3.0)\n",
      "Requirement already satisfied: certifi in d:\\python\\lib\\site-packages (from httpx<0.28.0,>=0.27.0->ollama<1,>=0.3.0->langchain-ollama) (2024.2.2)\n",
      "Requirement already satisfied: httpcore==1.* in d:\\python\\lib\\site-packages (from httpx<0.28.0,>=0.27.0->ollama<1,>=0.3.0->langchain-ollama) (1.0.4)\n",
      "Requirement already satisfied: idna in d:\\python\\lib\\site-packages (from httpx<0.28.0,>=0.27.0->ollama<1,>=0.3.0->langchain-ollama) (3.6)\n",
      "Requirement already satisfied: sniffio in d:\\python\\lib\\site-packages (from httpx<0.28.0,>=0.27.0->ollama<1,>=0.3.0->langchain-ollama) (1.3.1)\n",
      "Requirement already satisfied: h11<0.15,>=0.13 in d:\\python\\lib\\site-packages (from httpcore==1.*->httpx<0.28.0,>=0.27.0->ollama<1,>=0.3.0->langchain-ollama) (0.14.0)\n",
      "Requirement already satisfied: jsonpointer>=1.9 in d:\\python\\lib\\site-packages (from jsonpatch<2.0,>=1.33->langchain-core<0.3.0,>=0.2.20->langchain-ollama) (2.4)\n",
      "Requirement already satisfied: orjson<4.0.0,>=3.9.14 in d:\\python\\lib\\site-packages (from langsmith<0.2.0,>=0.1.75->langchain-core<0.3.0,>=0.2.20->langchain-ollama) (3.10.0)\n",
      "Requirement already satisfied: requests<3,>=2 in d:\\python\\lib\\site-packages (from langsmith<0.2.0,>=0.1.75->langchain-core<0.3.0,>=0.2.20->langchain-ollama) (2.31.0)\n",
      "Requirement already satisfied: annotated-types>=0.4.0 in d:\\python\\lib\\site-packages (from pydantic<3,>=1->langchain-core<0.3.0,>=0.2.20->langchain-ollama) (0.6.0)\n",
      "Requirement already satisfied: pydantic-core==2.16.3 in d:\\python\\lib\\site-packages (from pydantic<3,>=1->langchain-core<0.3.0,>=0.2.20->langchain-ollama) (2.16.3)\n",
      "Requirement already satisfied: charset-normalizer<4,>=2 in d:\\python\\lib\\site-packages (from requests<3,>=2->langsmith<0.2.0,>=0.1.75->langchain-core<0.3.0,>=0.2.20->langchain-ollama) (3.3.2)\n",
      "Requirement already satisfied: urllib3<3,>=1.21.1 in d:\\python\\lib\\site-packages (from requests<3,>=2->langsmith<0.2.0,>=0.1.75->langchain-core<0.3.0,>=0.2.20->langchain-ollama) (2.2.1)\n",
      "Looking in indexes: https://pypi.tuna.tsinghua.edu.cn/simple\n",
      "Requirement already satisfied: langchain in d:\\python\\lib\\site-packages (0.2.12)\n",
      "Requirement already satisfied: PyYAML>=5.3 in d:\\python\\lib\\site-packages (from langchain) (6.0.1)\n",
      "Requirement already satisfied: SQLAlchemy<3,>=1.4 in d:\\python\\lib\\site-packages (from langchain) (2.0.29)\n",
      "Requirement already satisfied: aiohttp<4.0.0,>=3.8.3 in d:\\python\\lib\\site-packages (from langchain) (3.9.3)\n",
      "Requirement already satisfied: langchain-core<0.3.0,>=0.2.27 in d:\\python\\lib\\site-packages (from langchain) (0.2.29)\n",
      "Requirement already satisfied: langchain-text-splitters<0.3.0,>=0.2.0 in d:\\python\\lib\\site-packages (from langchain) (0.2.2)\n",
      "Requirement already satisfied: langsmith<0.2.0,>=0.1.17 in d:\\python\\lib\\site-packages (from langchain) (0.1.98)\n",
      "Requirement already satisfied: numpy<2.0.0,>=1.26.0 in d:\\python\\lib\\site-packages (from langchain) (1.26.4)\n",
      "Requirement already satisfied: pydantic<3,>=1 in d:\\python\\lib\\site-packages (from langchain) (2.6.3)\n",
      "Requirement already satisfied: requests<3,>=2 in d:\\python\\lib\\site-packages (from langchain) (2.31.0)\n",
      "Requirement already satisfied: tenacity!=8.4.0,<9.0.0,>=8.1.0 in d:\\python\\lib\\site-packages (from langchain) (8.2.3)\n",
      "Requirement already satisfied: aiosignal>=1.1.2 in d:\\python\\lib\\site-packages (from aiohttp<4.0.0,>=3.8.3->langchain) (1.3.1)\n",
      "Requirement already satisfied: attrs>=17.3.0 in d:\\python\\lib\\site-packages (from aiohttp<4.0.0,>=3.8.3->langchain) (23.2.0)\n",
      "Requirement already satisfied: frozenlist>=1.1.1 in d:\\python\\lib\\site-packages (from aiohttp<4.0.0,>=3.8.3->langchain) (1.4.1)\n",
      "Requirement already satisfied: multidict<7.0,>=4.5 in d:\\python\\lib\\site-packages (from aiohttp<4.0.0,>=3.8.3->langchain) (6.0.5)\n",
      "Requirement already satisfied: yarl<2.0,>=1.0 in d:\\python\\lib\\site-packages (from aiohttp<4.0.0,>=3.8.3->langchain) (1.9.4)\n",
      "Requirement already satisfied: jsonpatch<2.0,>=1.33 in d:\\python\\lib\\site-packages (from langchain-core<0.3.0,>=0.2.27->langchain) (1.33)\n",
      "Requirement already satisfied: packaging<25,>=23.2 in d:\\python\\lib\\site-packages (from langchain-core<0.3.0,>=0.2.27->langchain) (23.2)\n",
      "Requirement already satisfied: typing-extensions>=4.7 in d:\\python\\lib\\site-packages (from langchain-core<0.3.0,>=0.2.27->langchain) (4.10.0)\n",
      "Requirement already satisfied: orjson<4.0.0,>=3.9.14 in d:\\python\\lib\\site-packages (from langsmith<0.2.0,>=0.1.17->langchain) (3.10.0)\n",
      "Requirement already satisfied: annotated-types>=0.4.0 in d:\\python\\lib\\site-packages (from pydantic<3,>=1->langchain) (0.6.0)\n",
      "Requirement already satisfied: pydantic-core==2.16.3 in d:\\python\\lib\\site-packages (from pydantic<3,>=1->langchain) (2.16.3)\n",
      "Requirement already satisfied: charset-normalizer<4,>=2 in d:\\python\\lib\\site-packages (from requests<3,>=2->langchain) (3.3.2)\n",
      "Requirement already satisfied: idna<4,>=2.5 in d:\\python\\lib\\site-packages (from requests<3,>=2->langchain) (3.6)\n",
      "Requirement already satisfied: urllib3<3,>=1.21.1 in d:\\python\\lib\\site-packages (from requests<3,>=2->langchain) (2.2.1)\n",
      "Requirement already satisfied: certifi>=2017.4.17 in d:\\python\\lib\\site-packages (from requests<3,>=2->langchain) (2024.2.2)\n",
      "Requirement already satisfied: greenlet!=0.4.17 in d:\\python\\lib\\site-packages (from SQLAlchemy<3,>=1.4->langchain) (3.0.3)\n",
      "Requirement already satisfied: jsonpointer>=1.9 in d:\\python\\lib\\site-packages (from jsonpatch<2.0,>=1.33->langchain-core<0.3.0,>=0.2.27->langchain) (2.4)\n",
      "Looking in indexes: https://pypi.tuna.tsinghua.edu.cn/simple\n",
      "Requirement already satisfied: langchain-community in d:\\python\\lib\\site-packages (0.2.11)\n",
      "Requirement already satisfied: PyYAML>=5.3 in d:\\python\\lib\\site-packages (from langchain-community) (6.0.1)\n",
      "Requirement already satisfied: SQLAlchemy<3,>=1.4 in d:\\python\\lib\\site-packages (from langchain-community) (2.0.29)\n",
      "Requirement already satisfied: aiohttp<4.0.0,>=3.8.3 in d:\\python\\lib\\site-packages (from langchain-community) (3.9.3)\n",
      "Requirement already satisfied: dataclasses-json<0.7,>=0.5.7 in d:\\python\\lib\\site-packages (from langchain-community) (0.6.4)\n",
      "Requirement already satisfied: langchain<0.3.0,>=0.2.12 in d:\\python\\lib\\site-packages (from langchain-community) (0.2.12)\n",
      "Requirement already satisfied: langchain-core<0.3.0,>=0.2.27 in d:\\python\\lib\\site-packages (from langchain-community) (0.2.29)\n",
      "Requirement already satisfied: langsmith<0.2.0,>=0.1.0 in d:\\python\\lib\\site-packages (from langchain-community) (0.1.98)\n",
      "Requirement already satisfied: numpy<2.0.0,>=1.26.0 in d:\\python\\lib\\site-packages (from langchain-community) (1.26.4)\n",
      "Requirement already satisfied: requests<3,>=2 in d:\\python\\lib\\site-packages (from langchain-community) (2.31.0)\n",
      "Requirement already satisfied: tenacity!=8.4.0,<9.0.0,>=8.1.0 in d:\\python\\lib\\site-packages (from langchain-community) (8.2.3)\n",
      "Requirement already satisfied: aiosignal>=1.1.2 in d:\\python\\lib\\site-packages (from aiohttp<4.0.0,>=3.8.3->langchain-community) (1.3.1)\n",
      "Requirement already satisfied: attrs>=17.3.0 in d:\\python\\lib\\site-packages (from aiohttp<4.0.0,>=3.8.3->langchain-community) (23.2.0)\n",
      "Requirement already satisfied: frozenlist>=1.1.1 in d:\\python\\lib\\site-packages (from aiohttp<4.0.0,>=3.8.3->langchain-community) (1.4.1)\n",
      "Requirement already satisfied: multidict<7.0,>=4.5 in d:\\python\\lib\\site-packages (from aiohttp<4.0.0,>=3.8.3->langchain-community) (6.0.5)\n",
      "Requirement already satisfied: yarl<2.0,>=1.0 in d:\\python\\lib\\site-packages (from aiohttp<4.0.0,>=3.8.3->langchain-community) (1.9.4)\n",
      "Requirement already satisfied: marshmallow<4.0.0,>=3.18.0 in d:\\python\\lib\\site-packages (from dataclasses-json<0.7,>=0.5.7->langchain-community) (3.21.1)\n",
      "Requirement already satisfied: typing-inspect<1,>=0.4.0 in d:\\python\\lib\\site-packages (from dataclasses-json<0.7,>=0.5.7->langchain-community) (0.9.0)\n",
      "Requirement already satisfied: langchain-text-splitters<0.3.0,>=0.2.0 in d:\\python\\lib\\site-packages (from langchain<0.3.0,>=0.2.12->langchain-community) (0.2.2)\n",
      "Requirement already satisfied: pydantic<3,>=1 in d:\\python\\lib\\site-packages (from langchain<0.3.0,>=0.2.12->langchain-community) (2.6.3)\n",
      "Requirement already satisfied: jsonpatch<2.0,>=1.33 in d:\\python\\lib\\site-packages (from langchain-core<0.3.0,>=0.2.27->langchain-community) (1.33)\n",
      "Requirement already satisfied: packaging<25,>=23.2 in d:\\python\\lib\\site-packages (from langchain-core<0.3.0,>=0.2.27->langchain-community) (23.2)\n",
      "Requirement already satisfied: typing-extensions>=4.7 in d:\\python\\lib\\site-packages (from langchain-core<0.3.0,>=0.2.27->langchain-community) (4.10.0)\n",
      "Requirement already satisfied: orjson<4.0.0,>=3.9.14 in d:\\python\\lib\\site-packages (from langsmith<0.2.0,>=0.1.0->langchain-community) (3.10.0)\n",
      "Requirement already satisfied: charset-normalizer<4,>=2 in d:\\python\\lib\\site-packages (from requests<3,>=2->langchain-community) (3.3.2)\n",
      "Requirement already satisfied: idna<4,>=2.5 in d:\\python\\lib\\site-packages (from requests<3,>=2->langchain-community) (3.6)\n",
      "Requirement already satisfied: urllib3<3,>=1.21.1 in d:\\python\\lib\\site-packages (from requests<3,>=2->langchain-community) (2.2.1)\n",
      "Requirement already satisfied: certifi>=2017.4.17 in d:\\python\\lib\\site-packages (from requests<3,>=2->langchain-community) (2024.2.2)\n",
      "Requirement already satisfied: greenlet!=0.4.17 in d:\\python\\lib\\site-packages (from SQLAlchemy<3,>=1.4->langchain-community) (3.0.3)\n",
      "Requirement already satisfied: jsonpointer>=1.9 in d:\\python\\lib\\site-packages (from jsonpatch<2.0,>=1.33->langchain-core<0.3.0,>=0.2.27->langchain-community) (2.4)\n",
      "Requirement already satisfied: annotated-types>=0.4.0 in d:\\python\\lib\\site-packages (from pydantic<3,>=1->langchain<0.3.0,>=0.2.12->langchain-community) (0.6.0)\n",
      "Requirement already satisfied: pydantic-core==2.16.3 in d:\\python\\lib\\site-packages (from pydantic<3,>=1->langchain<0.3.0,>=0.2.12->langchain-community) (2.16.3)\n",
      "Requirement already satisfied: mypy-extensions>=0.3.0 in d:\\python\\lib\\site-packages (from typing-inspect<1,>=0.4.0->dataclasses-json<0.7,>=0.5.7->langchain-community) (1.0.0)\n",
      "Looking in indexes: https://pypi.tuna.tsinghua.edu.cn/simple\n",
      "Requirement already satisfied: Pillow in d:\\python\\lib\\site-packages (10.2.0)\n",
      "Looking in indexes: https://pypi.tuna.tsinghua.edu.cn/simple\n",
      "Requirement already satisfied: faiss-cpu in d:\\python\\lib\\site-packages (1.8.0)\n",
      "Requirement already satisfied: numpy in d:\\python\\lib\\site-packages (from faiss-cpu) (1.26.4)\n"
     ]
    }
   ],
   "source": [
    "!pip install langchain-ollama\n",
    "!pip install langchain\n",
    "!pip install -U langchain-community\n",
    "!pip install Pillow\n",
    "!pip install faiss-cpu"
   ]
  },
  {
   "cell_type": "markdown",
   "id": "e82331725aa6963d",
   "metadata": {},
   "source": [
    "## 2.下载所需模型并初始化 OllamaLLM"
   ]
  },
  {
   "cell_type": "markdown",
   "id": "c88ce95d6c681681",
   "metadata": {},
   "source": [
    "### 初始化 OllamaLLM"
   ]
  },
  {
   "cell_type": "code",
   "execution_count": 5,
   "id": "ed321fae89fc7a2",
   "metadata": {
    "ExecuteTime": {
     "end_time": "2024-08-08T02:48:21.661058Z",
     "start_time": "2024-08-08T02:48:19.749575Z"
    }
   },
   "outputs": [
    {
     "name": "stdout",
     "output_type": "stream",
     "text": [
      "OllamaLLM 初始化 llama3.1 完成\n"
     ]
    }
   ],
   "source": [
    "from langchain_ollama import OllamaLLM\n",
    "from langchain_core.prompts import ChatPromptTemplate\n",
    "\n",
    "# 初始化Ollama LLM\n",
    "model_name = \"llama3.1\"\n",
    "model = OllamaLLM(model=model_name)\n",
    "print(f\"OllamaLLM 初始化 {model_name} 完成\")"
   ]
  },
  {
   "cell_type": "markdown",
   "id": "f513b62f081aa0cb",
   "metadata": {},
   "source": [
    "## 3. 基本使用示例\n",
    "\n",
    "### 使用最基础的 ChatPromptTemplate 进行对话"
   ]
  },
  {
   "cell_type": "code",
   "execution_count": 6,
   "id": "9374f07909ce3ca1",
   "metadata": {
    "ExecuteTime": {
     "end_time": "2024-08-08T02:49:26.729856Z",
     "start_time": "2024-08-08T02:48:26.373907Z"
    }
   },
   "outputs": [
    {
     "data": {
      "text/plain": [
       "'哈哈，我很高兴听到有人问这个问题！我认为，每个版本的模型都有其独特的优势和特点。GPT-4是一个非常强大的语言模型，它在处理语言理解、生成和推理方面表现出色。\\n\\n相比之下，我是基于你上一次对话后续的问题而设计的模型，所以我可以更好地理解你的上下文，并根据你的历史信息进行相关的回答。同时，我也被训练以更加平衡的人类社会互动能力，如同理心和情感理解等。\\n\\n但说实话，这不是一个很公平的问题，因为GPT-4和其他前辈模型各有其优点。比如，GPT-4在严格控制的文本生成环境中可能更胜一筹。但是，在面对动态、无结构或模糊语言任务时，我可能能更好地适应。\\n\\n我希望，这个答案能够帮助你了解这个比较的问题。'"
      ]
     },
     "execution_count": 6,
     "metadata": {},
     "output_type": "execute_result"
    }
   ],
   "source": [
    "# 创建一个简单的提示模版\n",
    "template = \"\"\"\n",
    "你是一个乐于助人的AI，擅长于解决回答各种问题。\n",
    "问题：{question}\n",
    "\"\"\"\n",
    "prompt = ChatPromptTemplate.from_template(template)\n",
    "# 创建一个简单的链\n",
    "chain = prompt | model\n",
    "# 使用链进行推理，输入问题\n",
    "chain.invoke({\"question\": \"你比GPT4厉害吗？\"})"
   ]
  },
  {
   "cell_type": "markdown",
   "id": "2d388fa5e6918b1c",
   "metadata": {},
   "source": [
    "ChatPromptTemplate 允许我们创建一个可重用的模板，其中包含一个或多个参数。这些参数可以在运行时动态替换，以生成不同的提示。\n",
    "\n",
    "在创建链部分，使用管道操作符|，它将 prompt 和 model 连接起来，形成一个处理流程。这种链式操作使得我们可以轻松地组合和重用不同的组件。\n",
    "\n",
    "invoke 方法触发整个处理链，将我们的问题传入模板，然后将格式化后的提示发送给模型进行处理。"
   ]
  },
  {
   "cell_type": "markdown",
   "id": "b8aa01fd1aa7142",
   "metadata": {},
   "source": [
    "### 流式输出\n",
    "流式输出是一种在生成长文本时逐步返回结果的技术。这种方法有几个重要的优势：\n",
    "\n",
    "1. 提高用户体验：用户可以立即看到部分结果，而不是等待整个响应完成。\n",
    "2. 减少等待时间：对于长回答，用户可以在完整回答生成之前就开始阅读。\n",
    "3. 实时交互：允许在生成过程中进行干预或终止。\n",
    "\n",
    "在实际应用中，特别是在聊天机器人或实时对话系统中，流式输出几乎是必不可少的。 \n",
    "\n",
    "下面的代码展示了如何使用 `model.stream()` 方法实现流式输出：\n"
   ]
  },
  {
   "cell_type": "code",
   "execution_count": 7,
   "id": "ab3dc5835ebd15ee",
   "metadata": {
    "ExecuteTime": {
     "end_time": "2024-08-08T02:49:44.713870Z",
     "start_time": "2024-08-08T02:49:37.012665Z"
    }
   },
   "outputs": [
    {
     "name": "stdout",
     "output_type": "stream",
     "text": [
      "你好！我是中文对话机器人，很高兴和你交流。有何问题或想聊什么呢？"
     ]
    }
   ],
   "source": [
    "from langchain_ollama import ChatOllama\n",
    "\n",
    "# 初始化ChatOllama模型\n",
    "model = ChatOllama(model=\"llama3.1\", temperature=0.7)\n",
    "\n",
    "messages = [\n",
    "    (\"human\", \"你好呀\"),\n",
    "]\n",
    "\n",
    "for chunk in model.stream(messages):\n",
    "    print(chunk.content, end='', flush=True)"
   ]
  },
  {
   "cell_type": "markdown",
   "id": "8e5020b1edbad9f3",
   "metadata": {},
   "source": [
    "### 工具调用  \n",
    "\n",
    "工具调用是 AI 模型与外部函数或 API 交互的能力。这使得模型可以执行复杂的任务，如数学计算、数据查询或外部服务调用。\n",
    "\n",
    "在这个例子中，我们定义了一个简单的计算器函数，并将其绑定到模型上：\n"
   ]
  },
  {
   "cell_type": "code",
   "execution_count": 8,
   "id": "73453e51383b4769",
   "metadata": {
    "ExecuteTime": {
     "end_time": "2024-08-08T02:50:14.123692Z",
     "start_time": "2024-08-08T02:49:47.441382Z"
    }
   },
   "outputs": [
    {
     "name": "stdout",
     "output_type": "stream",
     "text": [
      "Tool calls: [{'name': 'simple_calculator', 'args': {'operation': 'multiply', 'x': 1000000, 'y': 2}, 'id': 'a2153e02-2789-4171-8e9e-e0fa48bcca82', 'type': 'tool_call'}]\n"
     ]
    }
   ],
   "source": [
    "from langchain_ollama import ChatOllama\n",
    "\n",
    "def simple_calculator(operation: str, x: float, y: float) -> float:\n",
    "    if operation == \"add\":\n",
    "        return x + y\n",
    "    elif operation == \"subtract\":\n",
    "        return x - y\n",
    "    elif operation == \"multiply\":\n",
    "        return x * y\n",
    "    elif operation == \"divide\":\n",
    "        if y != 0:\n",
    "            return x / y\n",
    "        else:\n",
    "            raise ValueError(\"Cannot divide by zero\")\n",
    "    else:\n",
    "        raise ValueError(\"Invalid operation\")\n",
    "\n",
    "# 初始化绑定工具的 ChatOllama 模型\n",
    "llm = ChatOllama(\n",
    "    model=\"llama3.1\",\n",
    "    temperature=0,\n",
    ").bind_tools([simple_calculator])\n",
    "\n",
    "# 使用模型进行工具调用\n",
    "result = llm.invoke(\n",
    "    \"你知道一千万乘二是多少吗？\"\n",
    ")\n",
    "print(\"Tool calls:\", result.tool_calls)"
   ]
  },
  {
   "cell_type": "markdown",
   "id": "76c02c2a9e98eca0",
   "metadata": {},
   "source": [
    "### 多模态模型\n",
    "Ollama 支持多模态，LLMs例如 bakllava 和 llava.\n",
    "\n",
    "多模态模型是能够处理多种类型输入（如文本、图像、音频等）的 AI 模型。这些模型在理解和生成跨模态内容方面表现出色，使得更复杂和自然的人机交互成为可能。\n",
    "\n",
    "在我们的例子中，我们使用了支持图像和文本输入的 llava 模型："
   ]
  },
  {
   "cell_type": "code",
   "execution_count": 1,
   "id": "22bbbbba3165acb2",
   "metadata": {
    "ExecuteTime": {
     "end_time": "2024-08-08T02:50:20.438765Z",
     "start_time": "2024-08-08T02:50:20.327156Z"
    }
   },
   "outputs": [
    {
     "data": {
      "text/html": [
       "<img src=\"data:image/jpeg;base64,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\" />"
      ],
      "text/plain": [
       "<IPython.core.display.HTML object>"
      ]
     },
     "metadata": {},
     "output_type": "display_data"
    }
   ],
   "source": [
    "#  这一步是将图片转换为base64编码，以便后续多模态模型的使用\n",
    "\n",
    "import base64\n",
    "from io import BytesIO\n",
    "\n",
    "from IPython.display import HTML, display\n",
    "from PIL import Image\n",
    "\n",
    "def convert_to_base64(pil_image):\n",
    "\n",
    "    buffered = BytesIO()\n",
    "    if pil_image.mode == 'RGBA':\n",
    "        pil_image = pil_image.convert('RGB')\n",
    "    pil_image.save(buffered, format=\"JPEG\")  \n",
    "    img_str = base64.b64encode(buffered.getvalue()).decode(\"utf-8\")\n",
    "    return img_str\n",
    "\n",
    "\n",
    "def plt_img_base64(img_base64):\n",
    "    image_html = f'<img src=\"data:image/jpeg;base64,{img_base64}\" />'\n",
    "    display(HTML(image_html))\n",
    "\n",
    "\n",
    "file_path = \"../../docs/images/C5-1-4.png\"  # 这里可以替换为你实际想要使用的图片路径\n",
    "pil_image = Image.open(file_path)\n",
    "\n",
    "image_b64 = convert_to_base64(pil_image)\n",
    "plt_img_base64(image_b64)"
   ]
  },
  {
   "cell_type": "code",
   "execution_count": 11,
   "id": "c7cc80f0795d55e9",
   "metadata": {
    "ExecuteTime": {
     "end_time": "2024-08-08T02:52:13.075887Z",
     "start_time": "2024-08-08T02:50:41.732652Z"
    }
   },
   "outputs": [
    {
     "name": "stdout",
     "output_type": "stream",
     "text": [
      " 这个图片中的动物是一个蓝色的海豚（whale）。它有一条红色的尾巴，并且在头部上有两个小眼睛和一个小嘴。 \n"
     ]
    }
   ],
   "source": [
    "from langchain_ollama import ChatOllama\n",
    "from langchain_core.messages import HumanMessage\n",
    "llm = ChatOllama(model=\"llava\", temperature=0)\n",
    "\n",
    "def prompt_func(data):\n",
    "    text = data[\"text\"]\n",
    "    image = data[\"image\"]\n",
    "\n",
    "    image_part = {\n",
    "        \"type\": \"image_url\",\n",
    "        \"image_url\": f\"data:image/jpeg;base64,{image}\",\n",
    "    }\n",
    "\n",
    "    content_parts = []\n",
    "\n",
    "    text_part = {\"type\": \"text\", \"text\": text}\n",
    "\n",
    "    content_parts.append(image_part)\n",
    "    content_parts.append(text_part)\n",
    "\n",
    "    return [HumanMessage(content=content_parts)]\n",
    "\n",
    "\n",
    "from langchain_core.output_parsers import StrOutputParser\n",
    "\n",
    "chain = prompt_func | llm | StrOutputParser()\n",
    "\n",
    "query_chain = chain.invoke(\n",
    "    {\"text\": \"这个图片里是什么动物啊?\", \"image\": image_b64}\n",
    ")\n",
    "\n",
    "print(query_chain)"
   ]
  },
  {
   "cell_type": "markdown",
   "id": "1f864c5340b17cb7",
   "metadata": {},
   "source": [
    "## 4. 进阶用法\n",
    "\n",
    "### 使用 ConversationChain 进行对话\n",
    "\n",
    "`ConversationChain` 是 LangChain 提供的一个强大工具，用于管理多轮对话。它结合了语言模型、提示模板和内存组件，使得创建具有上下文感知能力的对话系统变得简单。\n"
   ]
  },
  {
   "cell_type": "code",
   "execution_count": 12,
   "id": "80012ad0572f33c4",
   "metadata": {
    "ExecuteTime": {
     "end_time": "2024-08-08T02:52:13.189746Z",
     "start_time": "2024-08-08T02:52:13.077908Z"
    }
   },
   "outputs": [
    {
     "name": "stderr",
     "output_type": "stream",
     "text": [
      "C:\\ProgramData\\anaconda3\\Lib\\site-packages\\langchain_core\\_api\\deprecation.py:139: LangChainDeprecationWarning: The class `ConversationChain` was deprecated in LangChain 0.2.7 and will be removed in 1.0. Use RunnableWithMessageHistory: https://api.python.langchain.com/en/latest/runnables/langchain_core.runnables.history.RunnableWithMessageHistory.html instead.\n",
      "  warn_deprecated(\n"
     ]
    }
   ],
   "source": [
    "from langchain.chains import ConversationChain\n",
    "from langchain.memory import ConversationBufferMemory\n",
    "\n",
    "# 初始化Ollama LLM\n",
    "model_name = \"llama3.1\"\n",
    "model = OllamaLLM(model=model_name)\n",
    "\n",
    "# 初始化 ConversationBufferMemory\n",
    "memory = ConversationBufferMemory()\n",
    "\n",
    "# 创建 ConversationChain\n",
    "conversation = ConversationChain(\n",
    "    llm=model,\n",
    "    memory=memory,\n",
    "    verbose=True\n",
    ") # 设置 verbose=True 以显示调试信息, 默认为 False"
   ]
  },
  {
   "cell_type": "markdown",
   "id": "dabe77655b407234",
   "metadata": {},
   "source": [
    "这里的关键组件是：\n",
    "\n",
    "1. `ConversationBufferMemory`：这是一个简单的内存组件，它存储所有先前的对话历史。\n",
    "2. `ConversationChain`：它将语言模型、内存和一个默认的对话提示模板组合在一起。\n",
    "\n",
    "维护对话历史很重要，因为它允许模型：\n",
    "\n",
    "- 理解上下文和之前提到的信息\n",
    "- 生成更连贯和相关的回复\n",
    "- 处理复杂的多轮对话场景\n",
    "\n",
    "在实际应用中，你可能需要考虑使用更高级的内存组件，如 `ConversationSummaryMemory`，以处理长对话并避免超出模型的上下文长度限制。"
   ]
  },
  {
   "cell_type": "markdown",
   "id": "49c321373484b0f3",
   "metadata": {},
   "source": [
    "现在，让我们体验一下具有记忆的对话系统："
   ]
  },
  {
   "cell_type": "code",
   "execution_count": 13,
   "id": "bd59cc268c82aa95",
   "metadata": {
    "ExecuteTime": {
     "end_time": "2024-08-08T02:55:06.062275Z",
     "start_time": "2024-08-08T02:52:13.191755Z"
    }
   },
   "outputs": [
    {
     "name": "stdout",
     "output_type": "stream",
     "text": [
      "\n",
      "\n",
      "\u001b[1m> Entering new ConversationChain chain...\u001b[0m\n",
      "Prompt after formatting:\n",
      "\u001b[32;1m\u001b[1;3mThe following is a friendly conversation between a human and an AI. The AI is talkative and provides lots of specific details from its context. If the AI does not know the answer to a question, it truthfully says it does not know.\n",
      "\n",
      "Current conversation:\n",
      "\n",
      "Human: 你好，我想了解一下人工智能。\n",
      "AI:\u001b[0m\n",
      "\n",
      "\u001b[1m> Finished chain.\u001b[0m\n",
      "AI: 你好！我很高兴与你交流。关于人工智能，你可能知道它是一个使用算法和数据来模拟人类思维的技术。但是，如果你想知道更多，那么可以告诉你，人工智能的发展历史可以追溯到20世纪50年代，当时的一位科学家Alan Turing首次提出了这个概念。到了21世纪初期，人工智能开始快速发展，尤其是在深度学习领域的突破中，如AlexNet在2012年的成功。现在，人工智能已经广泛应用于各行各业，例如语音识别、图像处理、自然语言处理等方面。你想问我一些具体的问题吗？\n",
      "\n",
      "\n",
      "\u001b[1m> Entering new ConversationChain chain...\u001b[0m\n",
      "Prompt after formatting:\n",
      "\u001b[32;1m\u001b[1;3mThe following is a friendly conversation between a human and an AI. The AI is talkative and provides lots of specific details from its context. If the AI does not know the answer to a question, it truthfully says it does not know.\n",
      "\n",
      "Current conversation:\n",
      "Human: 你好，我想了解一下人工智能。\n",
      "AI: 你好！我很高兴与你交流。关于人工智能，你可能知道它是一个使用算法和数据来模拟人类思维的技术。但是，如果你想知道更多，那么可以告诉你，人工智能的发展历史可以追溯到20世纪50年代，当时的一位科学家Alan Turing首次提出了这个概念。到了21世纪初期，人工智能开始快速发展，尤其是在深度学习领域的突破中，如AlexNet在2012年的成功。现在，人工智能已经广泛应用于各行各业，例如语音识别、图像处理、自然语言处理等方面。你想问我一些具体的问题吗？\n",
      "Human: 能给我举个AI在日常生活中的应用例子吗？\n",
      "AI:\u001b[0m\n",
      "\n",
      "\u001b[1m> Finished chain.\u001b[0m\n",
      "AI: 当然！一个很好的例子是智慧家电。许多现代家电，如空调、洗衣机和电视，都开始使用人工智能技术来提供更加便捷的用户体验。例如，一些智能空调可以通过语音命令或手机APP让你远程控制温度、设定定时程序，并且会根据室内环境自动调整冷暖度。甚至一些高端智能电视也能够使用人工智能技术来推荐视频内容、识别人脸等功能，让你的生活更加便捷和方便。你有兴趣知道更多关于智慧家电的信息吗？\n",
      "\n",
      "\n",
      "\u001b[1m> Entering new ConversationChain chain...\u001b[0m\n",
      "Prompt after formatting:\n",
      "\u001b[32;1m\u001b[1;3mThe following is a friendly conversation between a human and an AI. The AI is talkative and provides lots of specific details from its context. If the AI does not know the answer to a question, it truthfully says it does not know.\n",
      "\n",
      "Current conversation:\n",
      "Human: 你好，我想了解一下人工智能。\n",
      "AI: 你好！我很高兴与你交流。关于人工智能，你可能知道它是一个使用算法和数据来模拟人类思维的技术。但是，如果你想知道更多，那么可以告诉你，人工智能的发展历史可以追溯到20世纪50年代，当时的一位科学家Alan Turing首次提出了这个概念。到了21世纪初期，人工智能开始快速发展，尤其是在深度学习领域的突破中，如AlexNet在2012年的成功。现在，人工智能已经广泛应用于各行各业，例如语音识别、图像处理、自然语言处理等方面。你想问我一些具体的问题吗？\n",
      "Human: 能给我举个AI在日常生活中的应用例子吗？\n",
      "AI: 当然！一个很好的例子是智慧家电。许多现代家电，如空调、洗衣机和电视，都开始使用人工智能技术来提供更加便捷的用户体验。例如，一些智能空调可以通过语音命令或手机APP让你远程控制温度、设定定时程序，并且会根据室内环境自动调整冷暖度。甚至一些高端智能电视也能够使用人工智能技术来推荐视频内容、识别人脸等功能，让你的生活更加便捷和方便。你有兴趣知道更多关于智慧家电的信息吗？\n",
      "Human: 这听起来很有趣。AI在医疗领域有什么应用？\n",
      "AI:\u001b[0m\n",
      "\n",
      "\u001b[1m> Finished chain.\u001b[0m\n",
      "AI: 好啊！在医疗领域，AI已经被广泛应用于多个方面。其中一个例子是影像分析。使用深度学习算法的人工智能，可以帮助医生快速和准确地识别病人的图像，如CT扫描或X光片，从而更快地诊断和治疗疾病。例如，一些AI系统可以检测肺癌、乳腺癌等疾病的早期迹象，并提供相应的建议给医生。这可以大大提高医疗保健水平，让患者获得更好的照顾。\n",
      "\n",
      "另一个例子是预测性医疗。一些人工智能系统可以分析病人的健康数据，如血压、体重和症状，从而预测疾病的发展趋势，并提供建议给医生，以便能够采取早期干预措施。这可以帮助减少并发症，改善治疗效果。\n",
      "\n",
      "最后，还有一个例子是个人ized医疗建议。一些人工智能系统，可以根据个人的健康数据和偏好，为其提供个性化的饮食、运动和生活方式建议，这可以帮助他们更健康地生活。\n",
      "\n",
      "你感兴趣吗？\n"
     ]
    }
   ],
   "source": [
    "# 第一轮对话\n",
    "response = conversation.predict(input=\"你好，我想了解一下人工智能。\")\n",
    "print(\"AI:\", response)\n",
    "\n",
    "# 第二轮对话\n",
    "response = conversation.predict(input=\"能给我举个AI在日常生活中的应用例子吗？\")\n",
    "print(\"AI:\", response)\n",
    "\n",
    "# 第三轮对话\n",
    "response = conversation.predict(input=\"这听起来很有趣。AI在医疗领域有什么应用？\")\n",
    "print(\"AI:\", response)"
   ]
  },
  {
   "cell_type": "markdown",
   "id": "dc132dc39325e21b",
   "metadata": {},
   "source": [
    "### 自定义提示模板\n",
    "\n",
    "设计好的提示模板是创建高效 AI 应用的关键。在这个例子中，我们创建了一个用于生成产品描述的复杂提示："
   ]
  },
  {
   "cell_type": "code",
   "execution_count": 14,
   "id": "c113ecc30ee7a978",
   "metadata": {
    "ExecuteTime": {
     "end_time": "2024-08-08T02:55:06.069815Z",
     "start_time": "2024-08-08T02:55:06.064286Z"
    }
   },
   "outputs": [],
   "source": [
    "from langchain_ollama import ChatOllama\n",
    "from langchain_core.messages import SystemMessage, HumanMessage\n",
    "\n",
    "# 初始化ChatOllama模型\n",
    "model = ChatOllama(model=\"llama3.1\", temperature=0.7)"
   ]
  },
  {
   "cell_type": "code",
   "execution_count": 15,
   "id": "2601aaba115cb0bf",
   "metadata": {
    "ExecuteTime": {
     "end_time": "2024-08-08T02:55:06.078239Z",
     "start_time": "2024-08-08T02:55:06.071834Z"
    }
   },
   "outputs": [],
   "source": [
    "system_message = SystemMessage(content=\"\"\"\n",
    "你是一位经验丰富的电商文案撰写专家。你的任务是根据给定的产品信息创作吸引人的商品描述。\n",
    "请确保你的描述简洁、有力，并且突出产品的核心优势。\n",
    "\"\"\")\n",
    "\n",
    "human_message_template = \"\"\"\n",
    "请为以下产品创作一段吸引人的商品描述：\n",
    "产品类型: {product_type}\n",
    "核心特性: {key_feature}\n",
    "目标受众: {target_audience}\n",
    "价格区间: {price_range}\n",
    "品牌定位: {brand_positioning}\n",
    "\n",
    "请提供以下三种不同风格的描述，每种大约50字：\n",
    "1. 理性分析型\n",
    "2. 情感诉求型\n",
    "3. 故事化营销型\n",
    "\"\"\"\n",
    "\n",
    "def generate_product_descriptions(product_info):\n",
    "    human_message = HumanMessage(content=human_message_template.format(**product_info))\n",
    "    messages = [system_message, human_message]\n",
    "    \n",
    "    response = model.invoke(messages)\n",
    "    return response.content\n"
   ]
  },
  {
   "cell_type": "code",
   "execution_count": 16,
   "id": "16391b088e8d7665",
   "metadata": {
    "ExecuteTime": {
     "end_time": "2024-08-08T02:56:16.723882Z",
     "start_time": "2024-08-08T02:55:06.080252Z"
    }
   },
   "outputs": [
    {
     "name": "stdout",
     "output_type": "stream",
     "text": [
      "**理性分析型**\n",
      "\n",
      "\"拥有一个全面理解身体的伙伴。智能手表带来心率监测和睡眠分析功能，让你深入了解自己的健康状态。通过精确的数据和明智的建议，助力你实现最佳身心状态。科技与健康的完美结合。\"\n",
      "\n",
      "**情感诉求型**\n",
      "\n",
      "\"你想要更好地照顾自己吗?智能手表将成为你的健康伴侣。它会为你提供实时的心率监测和睡眠分析数据，让你有能力做出明智的生活选择。拥有一个关心你的工具，助力你实现理想的身体和心理状态。\"\n",
      "\n",
      "**故事化营销型**\n",
      "\n",
      "\"记得那天晚上，你感到非常疲倦，但却无法入睡。你开始担忧自己的健康状况，希望能找到答案。智能手表就像一位忠诚的朋友，为你提供了心率监测和睡眠分析的线索，让你能够调整你的生活方式，实现最佳的身体和心理状态。这是一个新的开始，一个更好的你即将到来。\"\n"
     ]
    }
   ],
   "source": [
    "# 示例使用\n",
    "product_info = {\n",
    "    \"product_type\": \"智能手表\",\n",
    "    \"key_feature\": \"心率监测和睡眠分析\",\n",
    "    \"target_audience\": \"注重健康的年轻专业人士\",\n",
    "    \"price_range\": \"中高端\",\n",
    "    \"brand_positioning\": \"科技与健康的完美结合\"\n",
    "}\n",
    "\n",
    "result = generate_product_descriptions(product_info)\n",
    "print(result)"
   ]
  },
  {
   "cell_type": "markdown",
   "id": "f1a6a0ad942fb8d4",
   "metadata": {},
   "source": [
    "这个结构有几个重要的设计考虑：\n",
    "\n",
    "1. system_prompt：定义了 AI 的角色和总体任务，设置了整个对话的基调。\n",
    "2. human_message_template：提供了具体的指令和所需信息的结构。\n",
    "3. 多参数设计：允许灵活地适应不同的产品和需求。\n",
    "4. 多样化输出要求：通过要求不同风格的描述，鼓励模型展示其versatility。\n",
    "\n",
    "设计有效的提示模板时，考虑以下几点：\n",
    "\n",
    "- 明确定义 AI 的角色和任务\n",
    "- 提供清晰、结构化的输入格式\n",
    "- 包含具体的输出要求和格式指导\n",
    "- 考虑如何最大化模型的能力和创造力"
   ]
  },
  {
   "cell_type": "markdown",
   "id": "8a9f8be9507d676",
   "metadata": {},
   "source": [
    "### 构建一个简单的RAG问答系统  \n",
    "RAG（Retrieval-Augmented Generation）是一种结合了检索和生成的AI技术，它通过检索相关信息来增强语言模型的回答能力。  \n",
    "RAG的优势在于它可以帮助语言模型访问最新和专业的信息，减少幻觉，并提高回答的准确性和相关性。  \n",
    "  \n",
    "LangChain 提供了多种组件，可以与 Ollama 模型无缝集成。这里我们将展示如何将 Ollama 模型与向量存储和检索器结合使用，创建一个简单的RAG问答系统。\n",
    "\n",
    "首先需要确保下载embedding模型，可以在命令行执行以下命令：  \n",
    "\n",
    "```shell\n",
    "ollama pull nomic-embed-text"
   ]
  },
  {
   "cell_type": "code",
   "execution_count": 3,
   "id": "3c848e6d6ea912cd",
   "metadata": {
    "ExecuteTime": {
     "end_time": "2024-08-08T03:02:34.909438Z",
     "start_time": "2024-08-08T03:01:40.650329Z"
    }
   },
   "outputs": [
    {
     "name": "stdout",
     "output_type": "stream",
     "text": [
      "如果你想为Datawhale贡献，请详细阅读Datawhale开源项目指南（https://github.com/datawhalechina/DOPMC/blob/main/GUIDE.md），这将帮助你理解如何在社区中发起一个开源项目。\n"
     ]
    }
   ],
   "source": [
    "from langchain_ollama import ChatOllama\n",
    "from langchain_community.vectorstores import FAISS\n",
    "from langchain_ollama import OllamaEmbeddings\n",
    "from langchain_core.prompts import ChatPromptTemplate\n",
    "from langchain_core.runnables import RunnablePassthrough\n",
    "from langchain.text_splitter import RecursiveCharacterTextSplitter\n",
    "\n",
    "# 初始化 Ollama 模型和嵌入\n",
    "llm = ChatOllama(model=\"llama3.1\")\n",
    "embeddings = OllamaEmbeddings(model=\"nomic-embed-text\")\n",
    "\n",
    "# 准备文档\n",
    "text = \"\"\"\n",
    "Datawhale 是一个专注于数据科学与 AI 领域的开源组织，汇集了众多领域院校和知名企业的优秀学习者，聚合了一群有开源精神和探索精神的团队成员。\n",
    "Datawhale 以“ for the learner，和学习者一起成长”为愿景，鼓励真实地展现自我、开放包容、互信互助、敢于试错和勇于担当。\n",
    "同时 Datawhale 用开源的理念去探索开源内容、开源学习和开源方案，赋能人才培养，助力人才成长，建立起人与人，人与知识，人与企业和人与未来的联结。\n",
    "如果你想在Datawhale开源社区发起一个开源项目，请详细阅读Datawhale开源项目指南[https://github.com/datawhalechina/DOPMC/blob/main/GUIDE.md]\n",
    "\"\"\"\n",
    "\n",
    "text_splitter = RecursiveCharacterTextSplitter(chunk_size=100, chunk_overlap=20)\n",
    "chunks = text_splitter.split_text(text)\n",
    "\n",
    "# 创建向量存储\n",
    "vectorstore = FAISS.from_texts(chunks, embeddings)\n",
    "retriever = vectorstore.as_retriever()\n",
    "\n",
    "# 创建提示模板\n",
    "template = \"\"\"只能使用下列内容回答问题:\n",
    "{context}\n",
    "\n",
    "Question: {question}\n",
    "\"\"\"\n",
    "prompt = ChatPromptTemplate.from_template(template)\n",
    "\n",
    "# 创建检索-问答链\n",
    "chain = (\n",
    "    {\"context\": retriever, \"question\": RunnablePassthrough()}\n",
    "    | prompt\n",
    "    | llm\n",
    ")\n",
    "\n",
    "# 使用链回答问题\n",
    "question = \"我想为datawhale贡献该怎么做？\"\n",
    "response = chain.invoke(question)\n",
    "print(response.content)"
   ]
  }
 ],
 "metadata": {
  "kernelspec": {
   "display_name": "handlm",
   "language": "python",
   "name": "handlm"
  },
  "language_info": {
   "codemirror_mode": {
    "name": "ipython",
    "version": 3
   },
   "file_extension": ".py",
   "mimetype": "text/x-python",
   "name": "python",
   "nbconvert_exporter": "python",
   "pygments_lexer": "ipython3",
   "version": "3.11.7"
  }
 },
 "nbformat": 4,
 "nbformat_minor": 5
}
